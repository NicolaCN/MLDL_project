{
 "cells": [
  {
   "cell_type": "code",
   "execution_count": 1,
   "metadata": {},
   "outputs": [],
   "source": [
    "import utils.ss_transforms as sstr\n",
    "from steps import Args\n",
    "from steps import createServerStep1, createServerStep2, createServerStep3"
   ]
  },
  {
   "cell_type": "code",
   "execution_count": 2,
   "metadata": {},
   "outputs": [],
   "source": [
    "#some example\n",
    "arg=Args(25,8,lr={'type':'polynomial','from':0.1,'to':0.05,'steps':45,'exponent':0.9})\n",
    "arg=Args(25,8,lr={'type':'cyclical','min':0.05,'max':0.1,'period':46})\n",
    "arg=Args(25,8,lr=0.05)\n",
    "testTrStep1=sstr.Compose([sstr.ToTensor()])\n",
    "trainTrStep1=sstr.Compose([sstr.ToTensor()])"
   ]
  },
  {
   "cell_type": "code",
   "execution_count": null,
   "metadata": {},
   "outputs": [],
   "source": [
    "\n",
    "#some example of functions\n",
    "server1=createServerStep1(args=arg,train_transform=trainTrStep1,test_transform=testTrStep1)\n",
    "server1.loadModel('MODEL_PATH') #to restore a saved model\n",
    "#server1.train()\n",
    "server1.test()\n",
    "server1.eval_train()\n",
    "server1.showClientSample('test_same_domain')"
   ]
  },
  {
   "cell_type": "code",
   "execution_count": null,
   "metadata": {},
   "outputs": [],
   "source": [
    "#STEP 1 EX\n",
    "arg=Args(8,25,lr=0.05,bs=4)\n",
    "trainTr=sstr.Compose([sstr.RandomCrop(),sstr.Resize((540,960)),sstr.ToTensor()])\n",
    "testTr=sstr.Compose([sstr.Resize((540,960)),sstr.ToTensor()])\n",
    "server1=createServerStep1(args=arg,train_transform=trainTr,test_transform=testTr)\n",
    "server1.train()"
   ]
  },
  {
   "cell_type": "code",
   "execution_count": null,
   "metadata": {},
   "outputs": [],
   "source": [
    "#STEP 2 EX\n",
    "arg=Args(num_rounds=80,num_epochs=4,lr=0.05,bs=4,clients_per_round=3,testEachRounds=5)\n",
    "trainTr=sstr.Compose([sstr.RandomCrop(),sstr.Resize((540,960)),sstr.ToTensor()])\n",
    "testTr=sstr.Compose([sstr.Resize((540,960)),sstr.ToTensor()])\n",
    "server2=createServerStep2(args=arg,train_transform=trainTr,test_transform=testTr)\n",
    "server2.train()"
   ]
  },
  {
   "cell_type": "code",
   "execution_count": 3,
   "metadata": {},
   "outputs": [],
   "source": [
    "#STEP 3A EX\n",
    "arg=Args(num_rounds=8,num_epochs=25,lr=0.05,bs=4,testEachRounds=5)\n",
    "trainTr=sstr.Compose([sstr.RandomCrop(),sstr.Resize((540,960)),sstr.ToTensor()])\n",
    "testTr=sstr.Compose([sstr.Resize((540,960)),sstr.ToTensor()])\n",
    "server3=createServerStep3(args=arg,train_transform=trainTr,test_transform=testTr)\n",
    "server3.train()"
   ]
  },
  {
   "cell_type": "code",
   "execution_count": null,
   "metadata": {},
   "outputs": [],
   "source": [
    "#STEP 3B EX\n",
    "import utils.FDA as FDA\n",
    "#In extractClientStyles must be an odd number >1.\n",
    "#But in applyStyles it's enough that n is lower or equal (also =1) the tha one in extractClientStyles\n",
    "n=5\n",
    "size=(540,960)\n",
    "styles=FDA.extractClientsStyles(n=n,size=size)\n",
    "arg=Args(num_rounds=8,num_epochs=25,lr=0.05,bs=4,testEachRounds=5)\n",
    "trainTr=sstr.Compose([sstr.RandomCrop(),sstr.Resize(size),sstr.ToTensor(),FDA.applyFDAstyles(styles=styles,n=n)])\n",
    "testTr=sstr.Compose([sstr.Resize(size),sstr.ToTensor()])\n",
    "server3=createServerStep3(args=arg,train_transform=trainTr,test_transform=testTr)\n",
    "server3.train()"
   ]
  }
 ],
 "metadata": {
  "kernelspec": {
   "display_name": "mldl23fl_6",
   "language": "python",
   "name": "python3"
  },
  "language_info": {
   "codemirror_mode": {
    "name": "ipython",
    "version": 3
   },
   "file_extension": ".py",
   "mimetype": "text/x-python",
   "name": "python",
   "nbconvert_exporter": "python",
   "pygments_lexer": "ipython3",
   "version": "3.10.9"
  },
  "orig_nbformat": 4
 },
 "nbformat": 4,
 "nbformat_minor": 2
}
