{
 "cells": [
  {
   "cell_type": "code",
   "execution_count": 2,
   "metadata": {},
   "outputs": [],
   "source": [
    "import utils.ss_transforms as sstr\n",
    "from steps import Args\n",
    "from steps import createServerStep1, createServerStep2, createServerStep3, createServerStep4"
   ]
  },
  {
   "cell_type": "code",
   "execution_count": 5,
   "metadata": {},
   "outputs": [],
   "source": [
    "#some example\n",
    "arg=Args(25,8,lr={'type':'polynomial','from':0.1,'to':0.05,'steps':45,'exponent':0.9})\n",
    "arg=Args(25,8,lr={'type':'cyclical','min':0.05,'max':0.1,'period':46})\n",
    "arg=Args(25,8,lr=0.05)\n",
    "testTrStep1=sstr.Compose([sstr.ToTensor()])\n",
    "trainTrStep1=sstr.Compose([sstr.ToTensor()])"
   ]
  },
  {
   "cell_type": "code",
   "execution_count": 6,
   "metadata": {},
   "outputs": [
    {
     "ename": "FileNotFoundError",
     "evalue": "[Errno 2] No such file or directory: 'data/idda/train.txt'",
     "output_type": "error",
     "traceback": [
      "\u001b[1;31m---------------------------------------------------------------------------\u001b[0m",
      "\u001b[1;31mFileNotFoundError\u001b[0m                         Traceback (most recent call last)",
      "Cell \u001b[1;32mIn[6], line 2\u001b[0m\n\u001b[0;32m      1\u001b[0m \u001b[39m#some example of functions\u001b[39;00m\n\u001b[1;32m----> 2\u001b[0m server1\u001b[39m=\u001b[39mcreateServerStep1(args\u001b[39m=\u001b[39;49marg,train_transform\u001b[39m=\u001b[39;49mtrainTrStep1,test_transform\u001b[39m=\u001b[39;49mtestTrStep1)\n\u001b[0;32m      3\u001b[0m server1\u001b[39m.\u001b[39mloadModel(\u001b[39m'\u001b[39m\u001b[39mMODEL_PATH\u001b[39m\u001b[39m'\u001b[39m) \u001b[39m#to restore a saved model\u001b[39;00m\n\u001b[0;32m      4\u001b[0m \u001b[39m#server1.train()\u001b[39;00m\n",
      "File \u001b[1;32mc:\\Users\\super\\Desktop\\MLDL_Project\\MLDL_project\\steps.py:69\u001b[0m, in \u001b[0;36mcreateServerStep1\u001b[1;34m(args, train_transform, test_transform, root, model)\u001b[0m\n\u001b[0;32m     63\u001b[0m model\u001b[39m.\u001b[39mto(torch\u001b[39m.\u001b[39mdevice(\u001b[39m'\u001b[39m\u001b[39mcuda\u001b[39m\u001b[39m'\u001b[39m \u001b[39mif\u001b[39;00m torch\u001b[39m.\u001b[39mcuda\u001b[39m.\u001b[39mis_available() \u001b[39melse\u001b[39;00m \u001b[39m'\u001b[39m\u001b[39mcpu\u001b[39m\u001b[39m'\u001b[39m))\n\u001b[0;32m     64\u001b[0m metrics \u001b[39m=\u001b[39m {\n\u001b[0;32m     65\u001b[0m         \u001b[39m'\u001b[39m\u001b[39meval_train\u001b[39m\u001b[39m'\u001b[39m: StreamSegMetrics(\u001b[39m16\u001b[39m, \u001b[39m'\u001b[39m\u001b[39meval_train\u001b[39m\u001b[39m'\u001b[39m),\n\u001b[0;32m     66\u001b[0m         \u001b[39m'\u001b[39m\u001b[39mtest_same_domain\u001b[39m\u001b[39m'\u001b[39m: StreamSegMetrics(\u001b[39m16\u001b[39m, \u001b[39m'\u001b[39m\u001b[39mtest_same_domain\u001b[39m\u001b[39m'\u001b[39m),\n\u001b[0;32m     67\u001b[0m         \u001b[39m'\u001b[39m\u001b[39mtest_diff_domain\u001b[39m\u001b[39m'\u001b[39m: StreamSegMetrics(\u001b[39m16\u001b[39m, \u001b[39m'\u001b[39m\u001b[39mtest_diff_domain\u001b[39m\u001b[39m'\u001b[39m)\n\u001b[0;32m     68\u001b[0m     }\n\u001b[1;32m---> 69\u001b[0m iddaTrain\u001b[39m=\u001b[39mIDDADataset(root,fileName\u001b[39m=\u001b[39;49m\u001b[39m'\u001b[39;49m\u001b[39mtrain.txt\u001b[39;49m\u001b[39m'\u001b[39;49m,transform\u001b[39m=\u001b[39;49mtrain_transform,client_name\u001b[39m=\u001b[39;49m\u001b[39m'\u001b[39;49m\u001b[39mCentralized server\u001b[39;49m\u001b[39m'\u001b[39;49m)\n\u001b[0;32m     70\u001b[0m iddaEvalTrain\u001b[39m=\u001b[39mIDDADataset(root,fileName\u001b[39m=\u001b[39m\u001b[39m'\u001b[39m\u001b[39mtrain.txt\u001b[39m\u001b[39m'\u001b[39m,transform\u001b[39m=\u001b[39mtest_transform,client_name\u001b[39m=\u001b[39m\u001b[39m'\u001b[39m\u001b[39meval_train\u001b[39m\u001b[39m'\u001b[39m)\n\u001b[0;32m     71\u001b[0m iddaTestSame\u001b[39m=\u001b[39mIDDADataset(root,fileName\u001b[39m=\u001b[39m\u001b[39m'\u001b[39m\u001b[39mtest_same_dom.txt\u001b[39m\u001b[39m'\u001b[39m,transform\u001b[39m=\u001b[39mtest_transform,client_name\u001b[39m=\u001b[39m\u001b[39m'\u001b[39m\u001b[39mtest_same_domain\u001b[39m\u001b[39m'\u001b[39m)\n",
      "File \u001b[1;32mc:\\Users\\super\\Desktop\\MLDL_Project\\MLDL_project\\datasets\\idda.py:43\u001b[0m, in \u001b[0;36mIDDADataset.__init__\u001b[1;34m(self, root, list_samples, fileName, transform, client_name)\u001b[0m\n\u001b[0;32m     41\u001b[0m samples_from_file\u001b[39m=\u001b[39m[]\n\u001b[0;32m     42\u001b[0m \u001b[39mif\u001b[39;00m fileName\u001b[39m!=\u001b[39m\u001b[39mNone\u001b[39;00m:\n\u001b[1;32m---> 43\u001b[0m     f \u001b[39m=\u001b[39m \u001b[39mopen\u001b[39;49m(\u001b[39mself\u001b[39;49m\u001b[39m.\u001b[39;49mroot\u001b[39m+\u001b[39;49m\u001b[39m'\u001b[39;49m\u001b[39m/\u001b[39;49m\u001b[39m'\u001b[39;49m\u001b[39m+\u001b[39;49mfileName, \u001b[39m\"\u001b[39;49m\u001b[39mr\u001b[39;49m\u001b[39m\"\u001b[39;49m) \n\u001b[0;32m     44\u001b[0m     samples_from_file\u001b[39m=\u001b[39m[x \u001b[39mfor\u001b[39;00m x \u001b[39min\u001b[39;00m f\u001b[39m.\u001b[39mread()\u001b[39m.\u001b[39msplit(\u001b[39m'\u001b[39m\u001b[39m\\n\u001b[39;00m\u001b[39m'\u001b[39m) \u001b[39mif\u001b[39;00m x \u001b[39m!=\u001b[39m \u001b[39m'\u001b[39m\u001b[39m'\u001b[39m]\n\u001b[0;32m     45\u001b[0m \u001b[39mself\u001b[39m\u001b[39m.\u001b[39mlist_samples \u001b[39m=\u001b[39m list_samples\u001b[39m+\u001b[39msamples_from_file\n",
      "\u001b[1;31mFileNotFoundError\u001b[0m: [Errno 2] No such file or directory: 'data/idda/train.txt'"
     ]
    }
   ],
   "source": [
    "\n",
    "#some example of functions\n",
    "server1=createServerStep1(args=arg,train_transform=trainTrStep1,test_transform=testTrStep1)\n",
    "server1.loadModel('MODEL_PATH') #to restore a saved model\n",
    "#server1.train()\n",
    "server1.test()\n",
    "server1.eval_train()\n",
    "server1.showClientSample('test_same_domain')"
   ]
  },
  {
   "cell_type": "code",
   "execution_count": null,
   "metadata": {},
   "outputs": [],
   "source": [
    "#STEP 1 EX\n",
    "arg=Args(8,25,lr=0.05,bs=4)\n",
    "trainTr=sstr.Compose([sstr.RandomCrop(),sstr.Resize((540,960)),sstr.ToTensor()])\n",
    "testTr=sstr.Compose([sstr.Resize((540,960)),sstr.ToTensor()])\n",
    "server1=createServerStep1(args=arg,train_transform=trainTr,test_transform=testTr)\n",
    "server1.train()"
   ]
  },
  {
   "cell_type": "code",
   "execution_count": null,
   "metadata": {},
   "outputs": [],
   "source": [
    "#STEP 2 EX\n",
    "arg=Args(num_rounds=80,num_epochs=4,lr=0.05,bs=4,clients_per_round=3,testEachRounds=5)\n",
    "trainTr=sstr.Compose([sstr.RandomCrop(),sstr.Resize((540,960)),sstr.ToTensor()])\n",
    "testTr=sstr.Compose([sstr.Resize((540,960)),sstr.ToTensor()])\n",
    "server2=createServerStep2(args=arg,train_transform=trainTr,test_transform=testTr)\n",
    "server2.train()"
   ]
  },
  {
   "cell_type": "code",
   "execution_count": 3,
   "metadata": {},
   "outputs": [],
   "source": [
    "#STEP 3A EX\n",
    "arg=Args(num_rounds=8,num_epochs=25,lr=0.05,bs=4,testEachRounds=5)\n",
    "trainTr=sstr.Compose([sstr.RandomCrop(),sstr.Resize((540,960)),sstr.ToTensor()])\n",
    "testTr=sstr.Compose([sstr.Resize((540,960)),sstr.ToTensor()])\n",
    "server3=createServerStep3(args=arg,train_transform=trainTr,test_transform=testTr)\n",
    "server3.train()"
   ]
  },
  {
   "cell_type": "code",
   "execution_count": 4,
   "metadata": {},
   "outputs": [
    {
     "ename": "FileNotFoundError",
     "evalue": "[Errno 2] No such file or directory: 'data/idda/train.json'",
     "output_type": "error",
     "traceback": [
      "\u001b[1;31m---------------------------------------------------------------------------\u001b[0m",
      "\u001b[1;31mFileNotFoundError\u001b[0m                         Traceback (most recent call last)",
      "Cell \u001b[1;32mIn[4], line 7\u001b[0m\n\u001b[0;32m      5\u001b[0m n\u001b[39m=\u001b[39m\u001b[39m5\u001b[39m\n\u001b[0;32m      6\u001b[0m size\u001b[39m=\u001b[39m(\u001b[39m540\u001b[39m,\u001b[39m960\u001b[39m)\n\u001b[1;32m----> 7\u001b[0m styles\u001b[39m=\u001b[39mFDA\u001b[39m.\u001b[39;49mextractClientsStyles(n\u001b[39m=\u001b[39;49mn,size\u001b[39m=\u001b[39;49msize)\n\u001b[0;32m      8\u001b[0m arg\u001b[39m=\u001b[39mArgs(num_rounds\u001b[39m=\u001b[39m\u001b[39m8\u001b[39m,num_epochs\u001b[39m=\u001b[39m\u001b[39m25\u001b[39m,lr\u001b[39m=\u001b[39m\u001b[39m0.05\u001b[39m,bs\u001b[39m=\u001b[39m\u001b[39m4\u001b[39m,testEachRounds\u001b[39m=\u001b[39m\u001b[39m5\u001b[39m)\n\u001b[0;32m      9\u001b[0m trainTr\u001b[39m=\u001b[39msstr\u001b[39m.\u001b[39mCompose([sstr\u001b[39m.\u001b[39mRandomCrop(),sstr\u001b[39m.\u001b[39mResize(size),sstr\u001b[39m.\u001b[39mToTensor(),FDA\u001b[39m.\u001b[39mapplyFDAstyles(styles\u001b[39m=\u001b[39mstyles,n\u001b[39m=\u001b[39mn)])\n",
      "File \u001b[1;32mc:\\Users\\super\\Desktop\\MLDL_Project\\MLDL_project\\utils\\FDA.py:19\u001b[0m, in \u001b[0;36mextractClientsStyles\u001b[1;34m(n, fileName, folder, size)\u001b[0m\n\u001b[0;32m     18\u001b[0m \u001b[39mdef\u001b[39;00m \u001b[39mextractClientsStyles\u001b[39m(n,fileName\u001b[39m=\u001b[39m\u001b[39m'\u001b[39m\u001b[39mdata/idda/train.json\u001b[39m\u001b[39m'\u001b[39m,folder\u001b[39m=\u001b[39m\u001b[39m\"\u001b[39m\u001b[39mdata/idda/images/\u001b[39m\u001b[39m\"\u001b[39m,size\u001b[39m=\u001b[39m(\u001b[39m540\u001b[39m,\u001b[39m960\u001b[39m)):\n\u001b[1;32m---> 19\u001b[0m     f\u001b[39m=\u001b[39m\u001b[39mopen\u001b[39;49m(fileName)\n\u001b[0;32m     20\u001b[0m     clients\u001b[39m=\u001b[39mjson\u001b[39m.\u001b[39mload(f)\n\u001b[0;32m     21\u001b[0m     \u001b[39mif\u001b[39;00m n\u001b[39m%\u001b[39m\u001b[39m2\u001b[39m\u001b[39m==\u001b[39m\u001b[39m0\u001b[39m:\n",
      "\u001b[1;31mFileNotFoundError\u001b[0m: [Errno 2] No such file or directory: 'data/idda/train.json'"
     ]
    }
   ],
   "source": [
    "#STEP 3B EX\n",
    "import utils.FDA as FDA\n",
    "#In extractClientStyles must be an odd number >1.\n",
    "#But in applyStyles it's enough that n is lower or equal (also =1) the tha one in extractClientStyles\n",
    "n=5\n",
    "size=(540,960)\n",
    "styles=FDA.extractClientsStyles(n=n,size=size)\n",
    "arg=Args(num_rounds=8,num_epochs=25,lr=0.05,bs=4,testEachRounds=5)\n",
    "trainTr=sstr.Compose([sstr.RandomCrop(),sstr.Resize(size),sstr.ToTensor(),FDA.applyFDAstyles(styles=styles,n=n)])\n",
    "testTr=sstr.Compose([sstr.Resize(size),sstr.ToTensor()])\n",
    "server3=createServerStep3(args=arg,train_transform=trainTr,test_transform=testTr)\n",
    "server3.train()"
   ]
  },
  {
   "cell_type": "code",
   "execution_count": null,
   "metadata": {},
   "outputs": [],
   "source": [
    "#STEP 4 EX\n",
    "import torch\n",
    "from models.deeplabv3 import deeplabv3_mobilenetv2\n",
    "\n",
    "# Load best model\n",
    "model = deeplabv3_mobilenetv2(16)\n",
    "model.load_state_dict(torch.load(\"Fake_path.pt\"))\n",
    "\n",
    "# The teacher_model is updated every \"teacher_update\" rounds\n",
    "# Unsupervised = True let the training phase be handled in Unsupervised settings\n",
    "# (main changes: \n",
    "#                - initialization of teacher models, both in server and client\n",
    "#                - different loss function in training phase that make use of pseudo-labels)\n",
    "arg=Args(num_rounds=200,num_epochs=6,lr=0.05,bs=4,testEachRounds=1,\n",
    "         clients_per_round=4, unsupervised=True, teacher_update=2)\n",
    "\n",
    "trainTr=sstr.Compose([sstr.Resize((540,960)),sstr.ToTensor()])\n",
    "testTr=sstr.Compose([sstr.Resize((540,960)),sstr.ToTensor()])\n",
    "server4=createServerStep4(args=arg,train_transform=trainTr,test_transform=testTr, \n",
    "                          rootIdda=\"data/idda\", model=model)\n",
    "server4.train()"
   ]
  }
 ],
 "metadata": {
  "kernelspec": {
   "display_name": "mldl23fl_6",
   "language": "python",
   "name": "python3"
  },
  "language_info": {
   "codemirror_mode": {
    "name": "ipython",
    "version": 3
   },
   "file_extension": ".py",
   "mimetype": "text/x-python",
   "name": "python",
   "nbconvert_exporter": "python",
   "pygments_lexer": "ipython3",
   "version": "3.10.7"
  },
  "orig_nbformat": 4
 },
 "nbformat": 4,
 "nbformat_minor": 2
}
