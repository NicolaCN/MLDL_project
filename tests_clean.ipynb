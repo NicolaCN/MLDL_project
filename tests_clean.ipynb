{
 "cells": [
  {
   "cell_type": "code",
   "execution_count": 1,
   "metadata": {},
   "outputs": [],
   "source": [
    "from datasets.idda import IDDADataset\n",
    "from client import Client\n",
    "from server import Server\n",
    "from utils.stream_metrics import StreamSegMetrics\n",
    "from models.deeplabv3 import deeplabv3_mobilenetv2\n",
    "import datasets.ss_transforms as sstr\n",
    "from steps import Args"
   ]
  },
  {
   "cell_type": "code",
   "execution_count": 2,
   "metadata": {},
   "outputs": [],
   "source": [
    "argsStep1=Args(30,2,change_lr_m=[(4,0.6,0.7),(14,0.7,0.8)])\n",
    "\n",
    "metricsStep1 = {\n",
    "            'eval_train': StreamSegMetrics(16, 'eval_train'),\n",
    "            'test_same_dom': StreamSegMetrics(16, 'test_same_dom'),\n",
    "            'test_diff_dom': StreamSegMetrics(16, 'test_diff_dom')\n",
    "        }\n",
    "modelStep1 = deeplabv3_mobilenetv2(16)\n",
    "testTrStep1=sstr.Compose([sstr.RandomResizedCrop((512,928),scale=(0.5,2)),sstr.ToTensor()])\n",
    "trainTrStep1=sstr.Compose([sstr.RandomResizedCrop((512,928),scale=(0.5,2)),sstr.ToTensor()])"
   ]
  },
  {
   "cell_type": "code",
   "execution_count": 3,
   "metadata": {},
   "outputs": [],
   "source": [
    "def createCentralizedServer(args,model,metrics,train_transform,test_transform,root='data/idda'):\n",
    "    iddaTrain=IDDADataset(root,fileName='train.txt',transform=train_transform,client_name='Centralized server')\n",
    "    iddaTestSame=IDDADataset(root,fileName='test_same_dom.txt',transform=test_transform,client_name='IDDA same domain')\n",
    "    iddaTestDiff=IDDADataset(root,fileName='test_diff_dom.txt',transform=test_transform,client_name='IDDA different domain')\n",
    "    train_clients=[Client(args=args,dataset=iddaTrain,model=model)]\n",
    "    test_clients=[Client(args=args,dataset=iddaTestDiff,model=model,test_client=True),Client(args=argsStep1,dataset=iddaTestSame,model=model,test_client=True)]\n",
    "    return Server(args=args,train_clients=train_clients,test_clients=test_clients,model=model,metrics=metrics)"
   ]
  },
  {
   "cell_type": "code",
   "execution_count": 4,
   "metadata": {},
   "outputs": [],
   "source": [
    "server1=createCentralizedServer(args=argsStep1,model=modelStep1,metrics=metricsStep1,train_transform=trainTrStep1,test_transform=testTrStep1)"
   ]
  },
  {
   "cell_type": "code",
   "execution_count": 5,
   "metadata": {},
   "outputs": [
    {
     "name": "stdout",
     "output_type": "stream",
     "text": [
      "0 0.05 0.9\n",
      "1 0.05 0.9\n",
      "2 0.05 0.9\n",
      "3 0.05 0.9\n",
      "4 0.05 0.7\n",
      "5 0.05 0.7\n",
      "6 0.05 0.7\n",
      "7 0.05 0.7\n",
      "8 0.05 0.7\n",
      "9 0.05 0.7\n",
      "10 0.05 0.7\n",
      "11 0.05 0.7\n",
      "12 0.05 0.7\n",
      "13 0.05 0.7\n",
      "14 0.05 0.8\n",
      "15 0.05 0.8\n",
      "16 0.05 0.8\n",
      "17 0.05 0.8\n",
      "18 0.05 0.8\n",
      "19 0.05 0.8\n",
      "20 0.05 0.8\n",
      "21 0.05 0.8\n",
      "22 0.05 0.8\n",
      "23 0.05 0.8\n",
      "24 0.05 0.8\n",
      "25 0.05 0.8\n",
      "26 0.05 0.8\n",
      "27 0.05 0.8\n",
      "28 0.05 0.8\n",
      "29 0.05 0.8\n"
     ]
    }
   ],
   "source": [
    "server1.train()"
   ]
  }
 ],
 "metadata": {
  "kernelspec": {
   "display_name": "mldl23fl_6",
   "language": "python",
   "name": "python3"
  },
  "language_info": {
   "codemirror_mode": {
    "name": "ipython",
    "version": 3
   },
   "file_extension": ".py",
   "mimetype": "text/x-python",
   "name": "python",
   "nbconvert_exporter": "python",
   "pygments_lexer": "ipython3",
   "version": "3.10.9"
  },
  "orig_nbformat": 4
 },
 "nbformat": 4,
 "nbformat_minor": 2
}
