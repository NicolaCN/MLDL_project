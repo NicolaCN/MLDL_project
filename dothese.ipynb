{
 "cells": [
  {
   "cell_type": "code",
   "execution_count": 6,
   "metadata": {},
   "outputs": [
    {
     "name": "stdout",
     "output_type": "stream",
     "text": [
      "{'T03_HRN_J': ['10177_T03_HRN_J', '10189_T03_HRN_J', '11391_T03_HRN_J', '11409_T03_HRN_J', '11426_T03_HRN_J', '13793_T03_HRN_J', '14964_T03_HRN_J', '14988_T03_HRN_J', '17418_T03_HRN_J', '18581_T03_HRN_J', '22195_T03_HRN_J', '24586_T03_HRN_J', '25795_T03_HRN_J', '25807_T03_HRN_J', '25814_T03_HRN_J', '28196_T03_HRN_J', '28237_T03_HRN_J', '29363_T03_HRN_J', '29398_T03_HRN_J', '29411_T03_HRN_J'], 'T02_HRN_J': ['103813_T02_HRN_J', '106550_T02_HRN_J', '107454_T02_HRN_J', '109230_T02_HRN_J', '110150_T02_HRN_J', '111041_T02_HRN_J', '113722_T02_HRN_J', '122749_T02_HRN_J', '12361_T02_HRN_J', '128151_T02_HRN_J', '141634_T02_HRN_J', '147031_T02_HRN_J', '150612_T02_HRN_J', '153342_T02_HRN_J', '155146_T02_HRN_J', '16010_T02_HRN_J', '167726_T02_HRN_J', '16917_T02_HRN_J', '169500_T02_HRN_J', '174049_T02_HRN_J'], 'T01_HRN_J': ['118113_T01_HRN_J', '122621_T01_HRN_J', '122632_T01_HRN_J', '129803_T01_HRN_J', '133402_T01_HRN_J', '137921_T01_HRN_J', '149635_T01_HRN_J', '158592_T01_HRN_J', '160383_T01_HRN_J', '164880_T01_HRN_J', '167591_T01_HRN_J', '171235_T01_HRN_J', '185624_T01_HRN_J', '186526_T01_HRN_J', '18672_T01_HRN_J', '195502_T01_HRN_J', '195503_T01_HRN_J', '201816_T01_HRN_J', '206963_T01_HRN_J', '208384_T01_HRN_J'], 'T02_HRN_A': ['105576_T02_HRN_A', '108290_T02_HRN_A', '109170_T02_HRN_A', '112779_T02_HRN_A', '11419_T02_HRN_A', '11422_T02_HRN_A', '11432_T02_HRN_A', '115448_T02_HRN_A', '12343_T02_HRN_A', '123563_T02_HRN_A', '128061_T02_HRN_A', '1509_T02_HRN_A', '151475_T02_HRN_A', '154160_T02_HRN_A', '155958_T02_HRN_A', '16835_T02_HRN_A', '177553_T02_HRN_A', '180243_T02_HRN_A', '182071_T02_HRN_A', '182953_T02_HRN_A'], 'T03_HRN_A': ['10076_T03_HRN_A', '12405_T03_HRN_A', '12408_T03_HRN_A', '12471_T03_HRN_A', '13635_T03_HRN_A', '14830_T03_HRN_A', '14876_T03_HRN_A', '16016_T03_HRN_A', '16028_T03_HRN_A', '17211_T03_HRN_A', '19626_T03_HRN_A', '20838_T03_HRN_A', '22053_T03_HRN_A', '25620_T03_HRN_A', '25645_T03_HRN_A', '26868_T03_HRN_A', '28017_T03_HRN_A', '2876_T03_HRN_A', '30402_T03_HRN_A', '30429_T03_HRN_A'], 'T01_HRN_A': ['100065_T01_HRN_A', '10505_T01_HRN_A', '107259_T01_HRN_A', '115337_T01_HRN_A', '115367_T01_HRN_A', '117147_T01_HRN_A', '119868_T01_HRN_A', '12318_T01_HRN_A', '12348_T01_HRN_A', '124326_T01_HRN_A', '124375_T01_HRN_A', '127979_T01_HRN_A', '129755_T01_HRN_A', '134265_T01_HRN_A', '139635_T01_HRN_A', '144142_T01_HRN_A', '149569_T01_HRN_A', '151356_T01_HRN_A', '152265_T01_HRN_A', '156727_T01_HRN_A']}\n"
     ]
    }
   ],
   "source": [
    "samples_from_file=[]\n",
    "f = open(\"data/idda/test_diff_dom.txt\", \"r\") \n",
    "samples_from_file=[x for x in f.read().split('\\n') if x != '']\n",
    "clients={}\n",
    "for samp in samples_from_file:\n",
    "    if samp[samp.find('_')+1:] in clients:\n",
    "        clients[samp[samp.find('_')+1:]].append(samp)\n",
    "    else:\n",
    "        clients[samp[samp.find('_')+1:]]=[samp]\n",
    "print(clients)\n",
    "\n",
    "\n",
    "import json\n",
    "\n",
    "with open('data/idda/test_diff_dom.json', 'w') as fp:\n",
    "    json.dump(clients, fp)"
   ]
  },
  {
   "cell_type": "code",
   "execution_count": 2,
   "metadata": {},
   "outputs": [],
   "source": [
    "import datasets.ss_transforms as sstr\n",
    "from steps import Args\n",
    "from steps import createServerStep1"
   ]
  },
  {
   "cell_type": "code",
   "execution_count": 4,
   "metadata": {},
   "outputs": [],
   "source": [
    "arg=Args(num_rounds=8,num_epochs=25,bs=4,testEachRounds=1)\n",
    "trainTrStep1=sstr.Compose([sstr.RandomCrop(scale=(0.5,1),ratio=(0.9,1.1)),sstr.Resize((540,960)),sstr.ToTensor()])\n",
    "testTrStep1=sstr.Compose([sstr.Resize((540,960)),sstr.ToTensor()])\n",
    "server1=createServerStep1(args=arg,train_transform=trainTrStep1,test_transform=testTrStep1)\n",
    "server1.train()"
   ]
  },
  {
   "cell_type": "code",
   "execution_count": null,
   "metadata": {},
   "outputs": [],
   "source": [
    "arg=Args(num_rounds=8,num_epochs=25,bs=4,testEachRounds=1)\n",
    "trainTrStep1=sstr.Compose([sstr.Resize((540,960)),sstr.ToTensor(),sstr.Normalize(mean=[0.485, 0.456, 0.406], std=[0.229, 0.224, 0.225])])\n",
    "testTrStep1=sstr.Compose([sstr.Resize((540,960)),sstr.ToTensor(),sstr.Normalize(mean=[0.485, 0.456, 0.406], std=[0.229, 0.224, 0.225])])\n",
    "server1=createServerStep1(args=arg,train_transform=trainTrStep1,test_transform=testTrStep1)\n",
    "server1.train()"
   ]
  },
  {
   "cell_type": "code",
   "execution_count": null,
   "metadata": {},
   "outputs": [],
   "source": [
    "arg=Args(num_rounds=8,num_epochs=25,bs=4,testEachRounds=1)\n",
    "trainTrStep1=sstr.Compose([sstr.RandomRotation(10),sstr.Resize((540,960)),sstr.ToTensor()])\n",
    "testTrStep1=sstr.Compose([sstr.Resize((540,960)),sstr.ToTensor()])\n",
    "server1=createServerStep1(args=arg,train_transform=trainTrStep1,test_transform=testTrStep1)\n",
    "server1.train()"
   ]
  },
  {
   "cell_type": "code",
   "execution_count": null,
   "metadata": {},
   "outputs": [],
   "source": [
    "arg=Args(num_rounds=8,num_epochs=25,bs=4,testEachRounds=1)\n",
    "trainTrStep1=sstr.Compose([sstr.RandomHorizontalFlip(),sstr.Resize((540,960)),sstr.ToTensor()])\n",
    "testTrStep1=sstr.Compose([sstr.Resize((540,960)),sstr.ToTensor()])\n",
    "server1=createServerStep1(args=arg,train_transform=trainTrStep1,test_transform=testTrStep1)\n",
    "server1.train()"
   ]
  },
  {
   "cell_type": "code",
   "execution_count": null,
   "metadata": {},
   "outputs": [],
   "source": [
    "arg=Args(num_rounds=8,num_epochs=25,bs=4,testEachRounds=1)\n",
    "trainTrStep1=sstr.Compose([sstr.Resize((540,960)),sstr.ToTensor(),sstr.RandomCompose([sstr.OneOf([sstr.EnhanceCloud(),sstr.EnhanceSunset()])],0.1)])\n",
    "testTrStep1=sstr.Compose([sstr.Resize((540,960)),sstr.ToTensor()])\n",
    "server1=createServerStep1(args=arg,train_transform=trainTrStep1,test_transform=testTrStep1)\n",
    "server1.train()"
   ]
  },
  {
   "cell_type": "code",
   "execution_count": null,
   "metadata": {},
   "outputs": [],
   "source": [
    "arg=Args(num_rounds=8,num_epochs=25,bs=4,testEachRounds=1)\n",
    "trainTrStep1=sstr.Compose([sstr.RandomCrop(scale=(0.5,1),ratio=(0.9,1.1)),sstr.Resize((540,960)),sstr.ToTensor(),sstr.Normalize(mean=[0.485, 0.456, 0.406], std=[0.229, 0.224, 0.225])])\n",
    "testTrStep1=sstr.Compose([sstr.Resize((540,960)),sstr.ToTensor(),sstr.Normalize(mean=[0.485, 0.456, 0.406], std=[0.229, 0.224, 0.225])])\n",
    "server1=createServerStep1(args=arg,train_transform=trainTrStep1,test_transform=testTrStep1)\n",
    "server1.train()"
   ]
  },
  {
   "cell_type": "code",
   "execution_count": null,
   "metadata": {},
   "outputs": [],
   "source": []
  }
 ],
 "metadata": {
  "kernelspec": {
   "display_name": "mldl23fl_6",
   "language": "python",
   "name": "python3"
  },
  "language_info": {
   "codemirror_mode": {
    "name": "ipython",
    "version": 3
   },
   "file_extension": ".py",
   "mimetype": "text/x-python",
   "name": "python",
   "nbconvert_exporter": "python",
   "pygments_lexer": "ipython3",
   "version": "3.10.9"
  },
  "orig_nbformat": 4
 },
 "nbformat": 4,
 "nbformat_minor": 2
}
