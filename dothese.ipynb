{
 "cells": [
  {
   "cell_type": "code",
   "execution_count": 2,
   "metadata": {},
   "outputs": [],
   "source": [
    "import datasets.ss_transforms as sstr\n",
    "from steps import Args\n",
    "from steps import createServerStep1"
   ]
  },
  {
   "cell_type": "code",
   "execution_count": 4,
   "metadata": {},
   "outputs": [],
   "source": [
    "arg=Args(num_rounds=8,num_epochs=25,bs=4,testEachRounds=1)\n",
    "trainTrStep1=sstr.Compose([sstr.RandomCrop(scale=(0.5,1),ratio=(0.9,1.1)),sstr.Resize((540,960)),sstr.ToTensor()])\n",
    "testTrStep1=sstr.Compose([sstr.Resize((540,960)),sstr.ToTensor()])\n",
    "server1=createServerStep1(args=arg,train_transform=trainTrStep1,test_transform=testTrStep1)\n",
    "server1.train()"
   ]
  },
  {
   "cell_type": "code",
   "execution_count": null,
   "metadata": {},
   "outputs": [],
   "source": [
    "arg=Args(num_rounds=8,num_epochs=25,bs=4,testEachRounds=1)\n",
    "trainTrStep1=sstr.Compose([sstr.Resize((540,960)),sstr.ToTensor(),sstr.Normalize(mean=[0.485, 0.456, 0.406], std=[0.229, 0.224, 0.225])])\n",
    "testTrStep1=sstr.Compose([sstr.Resize((540,960)),sstr.ToTensor(),sstr.Normalize(mean=[0.485, 0.456, 0.406], std=[0.229, 0.224, 0.225])])\n",
    "server1=createServerStep1(args=arg,train_transform=trainTrStep1,test_transform=testTrStep1)\n",
    "server1.train()"
   ]
  },
  {
   "cell_type": "code",
   "execution_count": null,
   "metadata": {},
   "outputs": [],
   "source": [
    "arg=Args(num_rounds=8,num_epochs=25,bs=4,testEachRounds=1)\n",
    "trainTrStep1=sstr.Compose([sstr.RandomRotation(10),sstr.Resize((540,960)),sstr.ToTensor()])\n",
    "testTrStep1=sstr.Compose([sstr.Resize((540,960)),sstr.ToTensor()])\n",
    "server1=createServerStep1(args=arg,train_transform=trainTrStep1,test_transform=testTrStep1)\n",
    "server1.train()"
   ]
  },
  {
   "cell_type": "code",
   "execution_count": null,
   "metadata": {},
   "outputs": [],
   "source": [
    "arg=Args(num_rounds=8,num_epochs=25,bs=4,testEachRounds=1)\n",
    "trainTrStep1=sstr.Compose([sstr.RandomHorizontalFlip(),sstr.Resize((540,960)),sstr.ToTensor()])\n",
    "testTrStep1=sstr.Compose([sstr.Resize((540,960)),sstr.ToTensor()])\n",
    "server1=createServerStep1(args=arg,train_transform=trainTrStep1,test_transform=testTrStep1)\n",
    "server1.train()"
   ]
  },
  {
   "cell_type": "code",
   "execution_count": null,
   "metadata": {},
   "outputs": [],
   "source": [
    "arg=Args(num_rounds=8,num_epochs=25,bs=4,testEachRounds=1)\n",
    "trainTrStep1=sstr.Compose([sstr.Resize((540,960)),sstr.ToTensor(),sstr.RandomCompose([sstr.OneOf([sstr.EnhanceCloud(),sstr.EnhanceSunset()])],0.1)])\n",
    "testTrStep1=sstr.Compose([sstr.Resize((540,960)),sstr.ToTensor()])\n",
    "server1=createServerStep1(args=arg,train_transform=trainTrStep1,test_transform=testTrStep1)\n",
    "server1.train()"
   ]
  },
  {
   "cell_type": "code",
   "execution_count": null,
   "metadata": {},
   "outputs": [],
   "source": [
    "arg=Args(num_rounds=8,num_epochs=25,bs=4,testEachRounds=1)\n",
    "trainTrStep1=sstr.Compose([sstr.RandomCrop(scale=(0.5,1),ratio=(0.9,1.1)),sstr.Resize((540,960)),sstr.ToTensor(),sstr.Normalize(mean=[0.485, 0.456, 0.406], std=[0.229, 0.224, 0.225])])\n",
    "testTrStep1=sstr.Compose([sstr.Resize((540,960)),sstr.ToTensor(),sstr.Normalize(mean=[0.485, 0.456, 0.406], std=[0.229, 0.224, 0.225])])\n",
    "server1=createServerStep1(args=arg,train_transform=trainTrStep1,test_transform=testTrStep1)\n",
    "server1.train()"
   ]
  },
  {
   "cell_type": "code",
   "execution_count": null,
   "metadata": {},
   "outputs": [],
   "source": []
  }
 ],
 "metadata": {
  "kernelspec": {
   "display_name": "mldl23fl_6",
   "language": "python",
   "name": "python3"
  },
  "language_info": {
   "codemirror_mode": {
    "name": "ipython",
    "version": 3
   },
   "file_extension": ".py",
   "mimetype": "text/x-python",
   "name": "python",
   "nbconvert_exporter": "python",
   "pygments_lexer": "ipython3",
   "version": "3.10.9"
  },
  "orig_nbformat": 4
 },
 "nbformat": 4,
 "nbformat_minor": 2
}
