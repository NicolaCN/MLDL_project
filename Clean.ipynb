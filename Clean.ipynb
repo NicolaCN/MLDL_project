{
 "cells": [
  {
   "cell_type": "code",
   "execution_count": 1,
   "metadata": {},
   "outputs": [],
   "source": [
    "from datasets.idda import IDDADataset\n",
    "from client import Client\n",
    "from server import Server\n",
    "from utils.stream_metrics import StreamSegMetrics\n",
    "from models.deeplabv3 import deeplabv3_mobilenetv2\n",
    "import datasets.ss_transforms as sstr"
   ]
  },
  {
   "cell_type": "code",
   "execution_count": 2,
   "metadata": {},
   "outputs": [],
   "source": [
    "class Args:\n",
    "    def __init__(self,num_rounds,num_epochs,clients_per_round,hnm=False,lr=0.05,bs=4,wd=0,m=0.9):\n",
    "        #Rounds \n",
    "        self.num_rounds=num_rounds\n",
    "        #Epochs per client for each round\n",
    "        self.num_epochs=num_epochs\n",
    "        #Clients selected per round\n",
    "        self.clients_per_round=clients_per_round\n",
    "        #Use HardMargin\n",
    "        self.hnm=hnm\n",
    "        #Batch size\n",
    "        self.bs=bs\n",
    "        #Learning rate\n",
    "        self.lr=lr\n",
    "        #Weight decay\n",
    "        self.wd=wd\n",
    "        #Momentum\n",
    "        self.m=m"
   ]
  },
  {
   "cell_type": "code",
   "execution_count": 3,
   "metadata": {},
   "outputs": [],
   "source": [
    "argsStep1=Args(10,10,10)\n",
    "\n",
    "metricsStep1 = {\n",
    "            'eval_train': StreamSegMetrics(16, 'eval_train'),\n",
    "            'test_same_dom': StreamSegMetrics(16, 'test_same_dom'),\n",
    "            'test_diff_dom': StreamSegMetrics(16, 'test_diff_dom')\n",
    "        }\n",
    "modelStep1 = deeplabv3_mobilenetv2(16)\n",
    "testTrStep1=sstr.Compose([sstr.RandomResizedCrop((512,928),scale=(0.5,2)),sstr.ToTensor()])\n",
    "trainTrStep1=sstr.Compose([sstr.RandomResizedCrop((512,928),scale=(0.5,2)),sstr.ToTensor()])"
   ]
  },
  {
   "cell_type": "code",
   "execution_count": 4,
   "metadata": {},
   "outputs": [],
   "source": [
    "def createCentralizedServer(args,model,metrics,train_transform,test_transform,root='data/idda'):\n",
    "    iddaTrain=IDDADataset(root,fileName='train.txt',transform=train_transform,client_name='Centralized server')\n",
    "    iddaTestSame=IDDADataset(root,fileName='test_same_dom.txt',transform=test_transform,client_name='IDDA same domain')\n",
    "    iddaTestDiff=IDDADataset(root,fileName='test_diff_dom.txt',transform=test_transform,client_name='IDDA different domain')\n",
    "    train_clients=[Client(args=args,dataset=iddaTrain,model=model)]\n",
    "    test_clients=[Client(args=args,dataset=iddaTestDiff,model=model,test_client=True),Client(args=argsStep1,dataset=iddaTestSame,model=model,test_client=True)]\n",
    "    return Server(args=args,train_clients=train_clients,test_clients=test_clients,model=model,metrics=metrics)"
   ]
  },
  {
   "cell_type": "code",
   "execution_count": 5,
   "metadata": {},
   "outputs": [],
   "source": [
    "server1=createCentralizedServer(args=argsStep1,model=modelStep1,metrics=metricsStep1,train_transform=trainTrStep1,test_transform=testTrStep1)"
   ]
  },
  {
   "cell_type": "code",
   "execution_count": 6,
   "metadata": {},
   "outputs": [
    {
     "name": "stdout",
     "output_type": "stream",
     "text": [
      "ROUND 1/10: Training 10 Clients...\n",
      "CLIENT 1/1: Centralized server\n",
      "Epoch:0\n"
     ]
    },
    {
     "name": "stderr",
     "output_type": "stream",
     "text": [
      "c:\\Users\\ollob\\anaconda3\\envs\\mldl23fl_6\\lib\\site-packages\\torchvision\\transforms\\functional.py:442: UserWarning: Argument 'interpolation' of type int is deprecated since 0.13 and will be removed in 0.15. Please use InterpolationMode enum.\n",
      "  warnings.warn(\n"
     ]
    },
    {
     "name": "stdout",
     "output_type": "stream",
     "text": [
      "Epoch:1\n"
     ]
    },
    {
     "ename": "KeyboardInterrupt",
     "evalue": "",
     "output_type": "error",
     "traceback": [
      "\u001b[1;31m---------------------------------------------------------------------------\u001b[0m",
      "\u001b[1;31mKeyboardInterrupt\u001b[0m                         Traceback (most recent call last)",
      "Cell \u001b[1;32mIn[6], line 1\u001b[0m\n\u001b[1;32m----> 1\u001b[0m server1\u001b[39m.\u001b[39;49mtrain()\n",
      "File \u001b[1;32mc:\\Users\\ollob\\OneDrive\\Desktop\\Poli\\IV Anno\\Machine learning and deep learning\\Project\\MLDL_project\\server.py:80\u001b[0m, in \u001b[0;36mServer.train\u001b[1;34m(self)\u001b[0m\n\u001b[0;32m     78\u001b[0m \u001b[39mprint\u001b[39m(\u001b[39mf\u001b[39m\u001b[39m\"\u001b[39m\u001b[39mROUND \u001b[39m\u001b[39m{\u001b[39;00mr\u001b[39m \u001b[39m\u001b[39m+\u001b[39m\u001b[39m \u001b[39m\u001b[39m1\u001b[39m\u001b[39m}\u001b[39;00m\u001b[39m/\u001b[39m\u001b[39m{\u001b[39;00m\u001b[39mself\u001b[39m\u001b[39m.\u001b[39margs\u001b[39m.\u001b[39mnum_rounds\u001b[39m}\u001b[39;00m\u001b[39m: Training \u001b[39m\u001b[39m{\u001b[39;00m\u001b[39mself\u001b[39m\u001b[39m.\u001b[39margs\u001b[39m.\u001b[39mclients_per_round\u001b[39m}\u001b[39;00m\u001b[39m Clients...\u001b[39m\u001b[39m\"\u001b[39m)\n\u001b[0;32m     79\u001b[0m subset_clients \u001b[39m=\u001b[39m \u001b[39mself\u001b[39m\u001b[39m.\u001b[39mselect_clients()\n\u001b[1;32m---> 80\u001b[0m updates \u001b[39m=\u001b[39m \u001b[39mself\u001b[39;49m\u001b[39m.\u001b[39;49mtrain_round(subset_clients)\n\u001b[0;32m     81\u001b[0m \u001b[39mself\u001b[39m\u001b[39m.\u001b[39mupdate_model(updates)\n",
      "File \u001b[1;32mc:\\Users\\ollob\\OneDrive\\Desktop\\Poli\\IV Anno\\Machine learning and deep learning\\Project\\MLDL_project\\server.py:33\u001b[0m, in \u001b[0;36mServer.train_round\u001b[1;34m(self, clients)\u001b[0m\n\u001b[0;32m     31\u001b[0m     \u001b[39mprint\u001b[39m(\u001b[39mf\u001b[39m\u001b[39m\"\u001b[39m\u001b[39m\\t\u001b[39;00m\u001b[39mCLIENT \u001b[39m\u001b[39m{\u001b[39;00mi\u001b[39m \u001b[39m\u001b[39m+\u001b[39m\u001b[39m \u001b[39m\u001b[39m1\u001b[39m\u001b[39m}\u001b[39;00m\u001b[39m/\u001b[39m\u001b[39m{\u001b[39;00m\u001b[39mlen\u001b[39m(clients)\u001b[39m}\u001b[39;00m\u001b[39m: \u001b[39m\u001b[39m{\u001b[39;00mc\u001b[39m}\u001b[39;00m\u001b[39m\"\u001b[39m)\n\u001b[0;32m     32\u001b[0m     c\u001b[39m.\u001b[39mmodel\u001b[39m.\u001b[39mload_state_dict(\u001b[39mself\u001b[39m\u001b[39m.\u001b[39mmodel_params_dict)\n\u001b[1;32m---> 33\u001b[0m     num_samples, update \u001b[39m=\u001b[39m c\u001b[39m.\u001b[39;49mtrain()\n\u001b[0;32m     34\u001b[0m     updates[i] \u001b[39m=\u001b[39m (num_samples, update)\n\u001b[0;32m     35\u001b[0m \u001b[39mreturn\u001b[39;00m updates\n",
      "File \u001b[1;32mc:\\Users\\ollob\\OneDrive\\Desktop\\Poli\\IV Anno\\Machine learning and deep learning\\Project\\MLDL_project\\client.py:69\u001b[0m, in \u001b[0;36mClient.train\u001b[1;34m(self)\u001b[0m\n\u001b[0;32m     66\u001b[0m \u001b[39m# TODO: check\u001b[39;00m\n\u001b[0;32m     67\u001b[0m \u001b[39mfor\u001b[39;00m epoch \u001b[39min\u001b[39;00m \u001b[39mrange\u001b[39m(\u001b[39mself\u001b[39m\u001b[39m.\u001b[39margs\u001b[39m.\u001b[39mnum_epochs):\n\u001b[0;32m     68\u001b[0m     \u001b[39m# TODO: check\u001b[39;00m\n\u001b[1;32m---> 69\u001b[0m     \u001b[39mself\u001b[39;49m\u001b[39m.\u001b[39;49mrun_epoch(epoch,optimizer)\n\u001b[0;32m     70\u001b[0m \u001b[39mreturn\u001b[39;00m \u001b[39mself\u001b[39m\u001b[39m.\u001b[39mdataset\u001b[39m.\u001b[39mlen(),copy\u001b[39m.\u001b[39mdeepcopy(\u001b[39mself\u001b[39m\u001b[39m.\u001b[39mmodel\u001b[39m.\u001b[39mparameters())\n",
      "File \u001b[1;32mc:\\Users\\ollob\\OneDrive\\Desktop\\Poli\\IV Anno\\Machine learning and deep learning\\Project\\MLDL_project\\client.py:55\u001b[0m, in \u001b[0;36mClient.run_epoch\u001b[1;34m(self, cur_epoch, optimizer)\u001b[0m\n\u001b[0;32m     53\u001b[0m outputs\u001b[39m=\u001b[39m\u001b[39mself\u001b[39m\u001b[39m.\u001b[39mmodel(images)[\u001b[39m'\u001b[39m\u001b[39mout\u001b[39m\u001b[39m'\u001b[39m]\n\u001b[0;32m     54\u001b[0m loss\u001b[39m=\u001b[39m\u001b[39mself\u001b[39m\u001b[39m.\u001b[39mreduction(\u001b[39mself\u001b[39m\u001b[39m.\u001b[39mcriterion(outputs,labels),labels)\n\u001b[1;32m---> 55\u001b[0m loss\u001b[39m.\u001b[39;49mbackward()\n\u001b[0;32m     56\u001b[0m optimizer\u001b[39m.\u001b[39mstep()\n",
      "File \u001b[1;32mc:\\Users\\ollob\\anaconda3\\envs\\mldl23fl_6\\lib\\site-packages\\torch\\_tensor.py:488\u001b[0m, in \u001b[0;36mTensor.backward\u001b[1;34m(self, gradient, retain_graph, create_graph, inputs)\u001b[0m\n\u001b[0;32m    478\u001b[0m \u001b[39mif\u001b[39;00m has_torch_function_unary(\u001b[39mself\u001b[39m):\n\u001b[0;32m    479\u001b[0m     \u001b[39mreturn\u001b[39;00m handle_torch_function(\n\u001b[0;32m    480\u001b[0m         Tensor\u001b[39m.\u001b[39mbackward,\n\u001b[0;32m    481\u001b[0m         (\u001b[39mself\u001b[39m,),\n\u001b[1;32m   (...)\u001b[0m\n\u001b[0;32m    486\u001b[0m         inputs\u001b[39m=\u001b[39minputs,\n\u001b[0;32m    487\u001b[0m     )\n\u001b[1;32m--> 488\u001b[0m torch\u001b[39m.\u001b[39;49mautograd\u001b[39m.\u001b[39;49mbackward(\n\u001b[0;32m    489\u001b[0m     \u001b[39mself\u001b[39;49m, gradient, retain_graph, create_graph, inputs\u001b[39m=\u001b[39;49minputs\n\u001b[0;32m    490\u001b[0m )\n",
      "File \u001b[1;32mc:\\Users\\ollob\\anaconda3\\envs\\mldl23fl_6\\lib\\site-packages\\torch\\autograd\\__init__.py:197\u001b[0m, in \u001b[0;36mbackward\u001b[1;34m(tensors, grad_tensors, retain_graph, create_graph, grad_variables, inputs)\u001b[0m\n\u001b[0;32m    192\u001b[0m     retain_graph \u001b[39m=\u001b[39m create_graph\n\u001b[0;32m    194\u001b[0m \u001b[39m# The reason we repeat same the comment below is that\u001b[39;00m\n\u001b[0;32m    195\u001b[0m \u001b[39m# some Python versions print out the first line of a multi-line function\u001b[39;00m\n\u001b[0;32m    196\u001b[0m \u001b[39m# calls in the traceback and some print out the last line\u001b[39;00m\n\u001b[1;32m--> 197\u001b[0m Variable\u001b[39m.\u001b[39;49m_execution_engine\u001b[39m.\u001b[39;49mrun_backward(  \u001b[39m# Calls into the C++ engine to run the backward pass\u001b[39;49;00m\n\u001b[0;32m    198\u001b[0m     tensors, grad_tensors_, retain_graph, create_graph, inputs,\n\u001b[0;32m    199\u001b[0m     allow_unreachable\u001b[39m=\u001b[39;49m\u001b[39mTrue\u001b[39;49;00m, accumulate_grad\u001b[39m=\u001b[39;49m\u001b[39mTrue\u001b[39;49;00m)\n",
      "\u001b[1;31mKeyboardInterrupt\u001b[0m: "
     ]
    }
   ],
   "source": [
    "server1.train()"
   ]
  }
 ],
 "metadata": {
  "kernelspec": {
   "display_name": "mldl23fl_6",
   "language": "python",
   "name": "python3"
  },
  "language_info": {
   "codemirror_mode": {
    "name": "ipython",
    "version": 3
   },
   "file_extension": ".py",
   "mimetype": "text/x-python",
   "name": "python",
   "nbconvert_exporter": "python",
   "pygments_lexer": "ipython3",
   "version": "3.10.9"
  },
  "orig_nbformat": 4
 },
 "nbformat": 4,
 "nbformat_minor": 2
}
