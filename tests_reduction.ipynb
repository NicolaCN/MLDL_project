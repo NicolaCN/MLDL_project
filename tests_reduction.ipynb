{
 "cells": [
  {
   "cell_type": "code",
   "execution_count": 17,
   "metadata": {},
   "outputs": [],
   "source": [
    "\n",
    "from torch import nn\n",
    "from models.deeplabv3 import deeplabv3_mobilenetv2\n",
    "from datasets.idda import IDDADataset\n",
    "import utils.ss_transforms as sstr\n",
    "import torch\n",
    "from utils.utils import MeanReduction"
   ]
  },
  {
   "cell_type": "code",
   "execution_count": 15,
   "metadata": {},
   "outputs": [],
   "source": [
    "model=deeplabv3_mobilenetv2(16)\n",
    "model.load_state_dict(torch.load('round_28.pt',map_location=torch.device('cpu')))\n",
    "iddaTestDiff=IDDADataset('data/idda',fileName='test_diff_dom.txt',transform=sstr.ToTensor(),client_name='test_diff_domain')\n",
    "model.eval()\n",
    "out=model(iddaTestDiff[0][0].unsqueeze(0))['out']"
   ]
  },
  {
   "cell_type": "code",
   "execution_count": 18,
   "metadata": {},
   "outputs": [
    {
     "name": "stdout",
     "output_type": "stream",
     "text": [
      "tensor(3.8691, grad_fn=<MeanBackward0>)\n"
     ]
    }
   ],
   "source": [
    "criterion = nn.CrossEntropyLoss(ignore_index=255, reduction='none')\n",
    "reduction=MeanReduction()\n",
    "l=reduction(criterion(out,iddaTestDiff[0][1].unsqueeze(0)),iddaTestDiff[0][1].unsqueeze(0))\n",
    "print(l)"
   ]
  },
  {
   "cell_type": "code",
   "execution_count": 21,
   "metadata": {},
   "outputs": [
    {
     "name": "stdout",
     "output_type": "stream",
     "text": [
      "tensor(3.8691, grad_fn=<NllLoss2DBackward0>)\n"
     ]
    }
   ],
   "source": [
    "criterion = nn.CrossEntropyLoss(ignore_index=255, reduction='mean')\n",
    "l=criterion(out,iddaTestDiff[0][1].unsqueeze(0))\n",
    "print(l)"
   ]
  },
  {
   "cell_type": "code",
   "execution_count": 23,
   "metadata": {},
   "outputs": [
    {
     "name": "stdout",
     "output_type": "stream",
     "text": [
      "tensor(0)\n",
      "tensor(1)\n",
      "tensor(2)\n",
      "tensor(3)\n",
      "tensor(4)\n",
      "tensor(5)\n",
      "tensor(6)\n",
      "tensor(8)\n",
      "tensor(10)\n",
      "tensor(11)\n",
      "tensor(13)\n",
      "tensor(255)\n"
     ]
    }
   ],
   "source": [
    "for i in iddaTestDiff[0][1].unsqueeze(0).unique():\n",
    "            print(i)"
   ]
  },
  {
   "cell_type": "code",
   "execution_count": null,
   "metadata": {},
   "outputs": [],
   "source": []
  },
  {
   "cell_type": "code",
   "execution_count": 40,
   "metadata": {},
   "outputs": [],
   "source": [
    "class MeanReductionPerClass():\n",
    "    def __call__(self, x, target):\n",
    "        sum=0\n",
    "        classes=target.unique()\n",
    "        classes=classes[classes!=255]\n",
    "        for i in classes:\n",
    "            print(i)\n",
    "            print(x[target==i].mean())\n",
    "            sum+=x[target==i].mean()\n",
    "        return sum/len(classes)"
   ]
  },
  {
   "cell_type": "code",
   "execution_count": 41,
   "metadata": {},
   "outputs": [
    {
     "name": "stdout",
     "output_type": "stream",
     "text": [
      "tensor(0)\n",
      "tensor(1.8140, grad_fn=<MeanBackward0>)\n",
      "tensor(1)\n",
      "tensor(6.9221, grad_fn=<MeanBackward0>)\n",
      "tensor(2)\n",
      "tensor(3.4182, grad_fn=<MeanBackward0>)\n",
      "tensor(3)\n",
      "tensor(9.3305, grad_fn=<MeanBackward0>)\n",
      "tensor(4)\n",
      "tensor(0.3525, grad_fn=<MeanBackward0>)\n",
      "tensor(5)\n",
      "tensor(4.3332, grad_fn=<MeanBackward0>)\n",
      "tensor(6)\n",
      "tensor(3.3715, grad_fn=<MeanBackward0>)\n",
      "tensor(8)\n",
      "tensor(0.7109, grad_fn=<MeanBackward0>)\n",
      "tensor(10)\n",
      "tensor(7.6629, grad_fn=<MeanBackward0>)\n",
      "tensor(11)\n",
      "tensor(7.3871, grad_fn=<MeanBackward0>)\n",
      "tensor(13)\n",
      "tensor(4.9312, grad_fn=<MeanBackward0>)\n",
      "tensor(4.5667, grad_fn=<DivBackward0>)\n"
     ]
    }
   ],
   "source": [
    "criterion = nn.CrossEntropyLoss(ignore_index=255, reduction='none')\n",
    "reduction=MeanReductionPerClass()\n",
    "l=reduction(criterion(out,iddaTestDiff[0][1].unsqueeze(0)),iddaTestDiff[0][1].unsqueeze(0))\n",
    "print(l)"
   ]
  },
  {
   "cell_type": "code",
   "execution_count": 54,
   "metadata": {},
   "outputs": [],
   "source": [
    "class MeanReductionInverseClassFrequency():\n",
    "    def __init__(self,k):\n",
    "        self.k=k\n",
    "    def __call__(self, x, target):\n",
    "        sum=0\n",
    "        classes=target.unique()\n",
    "        classes=classes[classes!=255]\n",
    "        for i in classes:\n",
    "            print(i)\n",
    "            print(x[target==i].mean())\n",
    "            print(x[target==i].shape[0])\n",
    "            sum+=x[target==i].mean()*(x[target!=255].shape[0]/x[target==i].shape[0])**self.k\n",
    "        return sum/len(classes)"
   ]
  },
  {
   "cell_type": "code",
   "execution_count": 57,
   "metadata": {},
   "outputs": [
    {
     "name": "stdout",
     "output_type": "stream",
     "text": [
      "tensor(0)\n",
      "tensor(1.8140, grad_fn=<MeanBackward0>)\n",
      "770333\n",
      "tensor(1)\n",
      "tensor(6.9221, grad_fn=<MeanBackward0>)\n",
      "27097\n",
      "tensor(2)\n",
      "tensor(3.4182, grad_fn=<MeanBackward0>)\n",
      "118759\n",
      "tensor(3)\n",
      "tensor(9.3305, grad_fn=<MeanBackward0>)\n",
      "28264\n",
      "tensor(4)\n",
      "tensor(0.3525, grad_fn=<MeanBackward0>)\n",
      "598\n",
      "tensor(5)\n",
      "tensor(4.3332, grad_fn=<MeanBackward0>)\n",
      "16253\n",
      "tensor(6)\n",
      "tensor(3.3715, grad_fn=<MeanBackward0>)\n",
      "9220\n",
      "tensor(8)\n",
      "tensor(0.7109, grad_fn=<MeanBackward0>)\n",
      "319988\n",
      "tensor(10)\n",
      "tensor(7.6629, grad_fn=<MeanBackward0>)\n",
      "582134\n",
      "tensor(11)\n",
      "tensor(7.3871, grad_fn=<MeanBackward0>)\n",
      "195\n",
      "tensor(13)\n",
      "tensor(4.9312, grad_fn=<MeanBackward0>)\n",
      "188342\n",
      "tensor(4.5667, grad_fn=<DivBackward0>)\n"
     ]
    }
   ],
   "source": [
    "criterion = nn.CrossEntropyLoss(ignore_index=255, reduction='none')\n",
    "reduction=MeanReductionInverseClassFrequency(0)\n",
    "l=reduction(criterion(out,iddaTestDiff[0][1].unsqueeze(0)),iddaTestDiff[0][1].unsqueeze(0))\n",
    "print(l)"
   ]
  }
 ],
 "metadata": {
  "kernelspec": {
   "display_name": "mldl23fl_6",
   "language": "python",
   "name": "python3"
  },
  "language_info": {
   "codemirror_mode": {
    "name": "ipython",
    "version": 3
   },
   "file_extension": ".py",
   "mimetype": "text/x-python",
   "name": "python",
   "nbconvert_exporter": "python",
   "pygments_lexer": "ipython3",
   "version": "3.10.9"
  },
  "orig_nbformat": 4
 },
 "nbformat": 4,
 "nbformat_minor": 2
}
